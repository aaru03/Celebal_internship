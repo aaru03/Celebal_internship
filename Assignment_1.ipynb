{
 "cells": [
  {
   "cell_type": "markdown",
   "id": "da688b42",
   "metadata": {},
   "source": [
    "# Lower Triangle"
   ]
  },
  {
   "cell_type": "code",
   "execution_count": 1,
   "id": "e999a016",
   "metadata": {
    "scrolled": true
   },
   "outputs": [
    {
     "name": "stdout",
     "output_type": "stream",
     "text": [
      "* \n",
      "* * \n",
      "* * * \n",
      "* * * * \n",
      "* * * * * \n"
     ]
    }
   ],
   "source": [
    "def lower_triangular(n):\n",
    "    for i in range(n):\n",
    "        print('* ' * (i + 1))\n",
    "\n",
    "lower_triangular(5)\n"
   ]
  },
  {
   "cell_type": "markdown",
   "id": "21df020c",
   "metadata": {},
   "source": [
    "# Upper Triangle"
   ]
  },
  {
   "cell_type": "code",
   "execution_count": 2,
   "id": "58509420",
   "metadata": {},
   "outputs": [
    {
     "name": "stdout",
     "output_type": "stream",
     "text": [
      "* * * * * \n",
      "  * * * * \n",
      "    * * * \n",
      "      * * \n",
      "        * \n"
     ]
    }
   ],
   "source": [
    "def upper_triangular(n):\n",
    "    for i in range(n):\n",
    "        print('  ' * i + '* ' * (n - i))\n",
    "\n",
    "upper_triangular(5)\n"
   ]
  },
  {
   "cell_type": "markdown",
   "id": "773f67e3",
   "metadata": {},
   "source": [
    "# Pyramid Pattern"
   ]
  },
  {
   "cell_type": "code",
   "execution_count": 3,
   "id": "d7f618b5",
   "metadata": {},
   "outputs": [
    {
     "name": "stdout",
     "output_type": "stream",
     "text": [
      "    * \n",
      "   * * \n",
      "  * * * \n",
      " * * * * \n",
      "* * * * * \n"
     ]
    }
   ],
   "source": [
    "def pyramid(n):\n",
    "    for i in range(n):\n",
    "        print(' ' * (n - i - 1) + '* ' * (i + 1))\n",
    "\n",
    "pyramid(5)\n"
   ]
  },
  {
   "cell_type": "code",
   "execution_count": null,
   "id": "c01b2fa7",
   "metadata": {},
   "outputs": [],
   "source": []
  }
 ],
 "metadata": {
  "kernelspec": {
   "display_name": "Python 3 (ipykernel)",
   "language": "python",
   "name": "python3"
  },
  "language_info": {
   "codemirror_mode": {
    "name": "ipython",
    "version": 3
   },
   "file_extension": ".py",
   "mimetype": "text/x-python",
   "name": "python",
   "nbconvert_exporter": "python",
   "pygments_lexer": "ipython3",
   "version": "3.11.5"
  }
 },
 "nbformat": 4,
 "nbformat_minor": 5
}
